{
 "cells": [
  {
   "cell_type": "code",
   "execution_count": 1,
   "metadata": {},
   "outputs": [],
   "source": [
    "# Sudoku Solver\n",
    "import numpy as np\n",
    "input_matrix= [ [0,3,0,0,8,0,0,0,1],\n",
    "              [0,0,7,4,0,1,0,5,0],\n",
    "              [9,0,0,0,5,0,2,0,0],\n",
    "              [0,0,2,0,0,5,0,1,0],\n",
    "              [3,0,0,2,1,0,5,0,0],\n",
    "              [5,9,0,0,6,0,0,0,2],\n",
    "              [0,0,6,5,0,2,0,0,0],\n",
    "              [0,0,9,6,0,0,0,2,7],\n",
    "              [0,0,0,0,0,8,0,6,5]\n",
    "             \n",
    "    ]\n",
    "\n",
    "\n",
    "def checkRow(y,n):\n",
    "    global input_matrix\n",
    "    for i in range (9):\n",
    "        if (input_matrix[y][i]==n):\n",
    "            return False\n",
    "    return True\n",
    "def checkColumn(x,n):\n",
    "    global input_matrix\n",
    "    for i in range (9):\n",
    "        if (input_matrix[i][x]==n):\n",
    "            return False\n",
    "    return True\n",
    "def checkGrid(y,x,n):\n",
    "    global input_matrix\n",
    "    y0=y-(y%3)\n",
    "    x0=x-(x%3)\n",
    "    for i in range(3):\n",
    "        for j in range(3):\n",
    "            if input_matrix[y0+i][x0+j]==n:\n",
    "                return False\n",
    "    return True\n",
    "def isInsertionPossible(y,x,n):\n",
    "    global input_matrix\n",
    "    if(checkRow(y,n) and checkColumn(x,n) and checkGrid(y,x,n)):\n",
    "        return True\n",
    "    return False"
   ]
  },
  {
   "cell_type": "code",
   "execution_count": 2,
   "metadata": {},
   "outputs": [],
   "source": [
    "def solve():\n",
    "    global input_matrix\n",
    "    for y in range(9):\n",
    "        for x in range(9):\n",
    "            if input_matrix[y][x]==0:\n",
    "                for n in range(1,10):\n",
    "                    if isInsertionPossible(y,x,n):\n",
    "                        input_matrix[y][x]=n\n",
    "                        yield from solve()\n",
    "                        input_matrix[y][x]=0\n",
    "                return\n",
    "    yield np.matrix(input_matrix)"
   ]
  },
  {
   "cell_type": "code",
   "execution_count": 3,
   "metadata": {},
   "outputs": [],
   "source": [
    "s=solve()"
   ]
  },
  {
   "cell_type": "code",
   "execution_count": 4,
   "metadata": {},
   "outputs": [
    {
     "data": {
      "text/plain": [
       "matrix([[2, 3, 5, 7, 8, 9, 6, 4, 1],\n",
       "        [6, 8, 7, 4, 2, 1, 3, 5, 9],\n",
       "        [9, 1, 4, 3, 5, 6, 2, 7, 8],\n",
       "        [4, 7, 2, 9, 3, 5, 8, 1, 6],\n",
       "        [3, 6, 8, 2, 1, 7, 5, 9, 4],\n",
       "        [5, 9, 1, 8, 6, 4, 7, 3, 2],\n",
       "        [1, 4, 6, 5, 7, 2, 9, 8, 3],\n",
       "        [8, 5, 9, 6, 4, 3, 1, 2, 7],\n",
       "        [7, 2, 3, 1, 9, 8, 4, 6, 5]])"
      ]
     },
     "execution_count": 4,
     "metadata": {},
     "output_type": "execute_result"
    }
   ],
   "source": [
    "next(s)"
   ]
  },
  {
   "cell_type": "code",
   "execution_count": 6,
   "metadata": {},
   "outputs": [
    {
     "data": {
      "text/plain": [
       "matrix([[2, 3, 5, 7, 8, 9, 6, 4, 1],\n",
       "        [6, 8, 7, 4, 2, 1, 3, 5, 9],\n",
       "        [9, 1, 4, 3, 5, 6, 2, 7, 8],\n",
       "        [7, 4, 2, 9, 3, 5, 8, 1, 6],\n",
       "        [3, 6, 8, 2, 1, 7, 5, 9, 4],\n",
       "        [5, 9, 1, 8, 6, 4, 7, 3, 2],\n",
       "        [1, 7, 6, 5, 9, 2, 4, 8, 3],\n",
       "        [8, 5, 9, 6, 4, 3, 1, 2, 7],\n",
       "        [4, 2, 3, 1, 7, 8, 9, 6, 5]])"
      ]
     },
     "execution_count": 6,
     "metadata": {},
     "output_type": "execute_result"
    }
   ],
   "source": [
    "next(s)"
   ]
  },
  {
   "cell_type": "code",
   "execution_count": null,
   "metadata": {},
   "outputs": [],
   "source": []
  }
 ],
 "metadata": {
  "kernelspec": {
   "display_name": "Python 3",
   "language": "python",
   "name": "python3"
  },
  "language_info": {
   "codemirror_mode": {
    "name": "ipython",
    "version": 3
   },
   "file_extension": ".py",
   "mimetype": "text/x-python",
   "name": "python",
   "nbconvert_exporter": "python",
   "pygments_lexer": "ipython3",
   "version": "3.8.3"
  }
 },
 "nbformat": 4,
 "nbformat_minor": 4
}
