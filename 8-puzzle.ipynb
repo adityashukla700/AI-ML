{
 "cells": [
  {
   "cell_type": "code",
   "execution_count": 11,
   "metadata": {},
   "outputs": [],
   "source": [
    "def manhattan_distance(cs,fs,num):\n",
    "    csarr=[]\n",
    "    fsarr=[]\n",
    "    for i in range(3):\n",
    "        for j in range(3):\n",
    "            if(cs[i][j]==num):\n",
    "                csarr=[i,j]\n",
    "            if(fs[i][j]==num):\n",
    "                fsarr=[i,j]\n",
    "\n",
    "    distance=abs(csarr[0]-fsarr[0])+abs(csarr[1]-fsarr[1])\n",
    "    return distance"
   ]
  },
  {
   "cell_type": "code",
   "execution_count": 12,
   "metadata": {},
   "outputs": [],
   "source": [
    "cs=[[1,2,3],[0,4,6],[7,5,8]]\n",
    "fs=[[1,2,3],[4,5,6],[7,8,0]]"
   ]
  },
  {
   "cell_type": "code",
   "execution_count": 13,
   "metadata": {},
   "outputs": [
    {
     "data": {
      "text/plain": [
       "0"
      ]
     },
     "execution_count": 13,
     "metadata": {},
     "output_type": "execute_result"
    }
   ],
   "source": [
    "manhattan_distance(cs,fs,2)"
   ]
  },
  {
   "cell_type": "code",
   "execution_count": 14,
   "metadata": {},
   "outputs": [],
   "source": [
    "def possible_routes(cs):\n",
    "    z_arr=[]\n",
    "    for i in range(3):\n",
    "        for j in range(3):\n",
    "            if(cs[i][j]==0):\n",
    "                z_arr=[i,j]\n",
    "                break\n",
    "    poss_routes=[]\n",
    "#     up\n",
    "    if((z_arr[0]-1)>=0):\n",
    "        poss_routes.append([z_arr[0]-1,z_arr[1]])\n",
    "#     down\n",
    "    if(z_arr[0]+1<3):\n",
    "        poss_routes.append([z_arr[0]+1,z_arr[1]])\n",
    "#         right\n",
    "    if(z_arr[1]+1<3):\n",
    "        poss_routes.append([z_arr[0],z_arr[1]+1])\n",
    "#         left\n",
    "    if(z_arr[1]-1>=0):\n",
    "        poss_routes.append([z_arr[0],z_arr[1]-1])\n",
    "    return poss_routes,z_arr"
   ]
  },
  {
   "cell_type": "code",
   "execution_count": 15,
   "metadata": {},
   "outputs": [
    {
     "data": {
      "text/plain": [
       "([[0, 0], [2, 0], [1, 1]], [1, 0])"
      ]
     },
     "execution_count": 15,
     "metadata": {},
     "output_type": "execute_result"
    }
   ],
   "source": [
    "possible_routes(cs)"
   ]
  },
  {
   "cell_type": "code",
   "execution_count": 16,
   "metadata": {},
   "outputs": [],
   "source": [
    "import numpy as np\n",
    "def solve():\n",
    "    global cs\n",
    "    global fs\n",
    "    move=0\n",
    "    while(cs!=fs):\n",
    "        poss_routes,z_arr=possible_routes(cs)\n",
    "        curr_manhattan_distance=100000\n",
    "        best_move=[]\n",
    "        for i in poss_routes:\n",
    "            cs[i[0]][i[1]],cs[z_arr[0]][z_arr[1]]=cs[z_arr[0]][z_arr[1]],cs[i[0]][i[1]]\n",
    "            sum_manhattan_distance=0\n",
    "            for j in range(3):\n",
    "                for k in range(3):\n",
    "                    if(cs[j][k]!=0):\n",
    "                        sum_manhattan_distance+=manhattan_distance(cs,fs,cs[j][k])\n",
    "            if(sum_manhattan_distance<curr_manhattan_distance):\n",
    "                curr_manhattan_distance=sum_manhattan_distance\n",
    "                best_move=i\n",
    "            cs[i[0]][i[1]],cs[z_arr[0]][z_arr[1]]=cs[z_arr[0]][z_arr[1]],cs[i[0]][i[1]]\n",
    "        cs[best_move[0]][best_move[1]],cs[z_arr[0]][z_arr[1]]=cs[z_arr[0]][z_arr[1]],cs[best_move[0]][best_move[1]]\n",
    "        move+=1\n",
    "        print(np.array(cs))\n",
    "    print(f'total moves: {move}')"
   ]
  },
  {
   "cell_type": "code",
   "execution_count": 17,
   "metadata": {},
   "outputs": [
    {
     "name": "stdout",
     "output_type": "stream",
     "text": [
      "[[1 2 3]\n",
      " [4 0 6]\n",
      " [7 5 8]]\n",
      "[[1 2 3]\n",
      " [4 5 6]\n",
      " [7 0 8]]\n",
      "[[1 2 3]\n",
      " [4 5 6]\n",
      " [7 8 0]]\n",
      "total moves: 3\n"
     ]
    }
   ],
   "source": [
    "solve()"
   ]
  },
  {
   "cell_type": "code",
   "execution_count": 18,
   "metadata": {},
   "outputs": [
    {
     "data": {
      "text/plain": [
       "array([[1, 2, 3],\n",
       "       [4, 5, 6],\n",
       "       [7, 8, 0]])"
      ]
     },
     "execution_count": 18,
     "metadata": {},
     "output_type": "execute_result"
    }
   ],
   "source": [
    "import numpy as np\n",
    "np.array(cs)\n"
   ]
  },
  {
   "cell_type": "code",
   "execution_count": null,
   "metadata": {},
   "outputs": [],
   "source": []
  }
 ],
 "metadata": {
  "kernelspec": {
   "display_name": "Python 3",
   "language": "python",
   "name": "python3"
  },
  "language_info": {
   "codemirror_mode": {
    "name": "ipython",
    "version": 3
   },
   "file_extension": ".py",
   "mimetype": "text/x-python",
   "name": "python",
   "nbconvert_exporter": "python",
   "pygments_lexer": "ipython3",
   "version": "3.8.3"
  }
 },
 "nbformat": 4,
 "nbformat_minor": 4
}
