{
 "cells": [
  {
   "cell_type": "code",
   "execution_count": 27,
   "metadata": {},
   "outputs": [
    {
     "data": {
      "text/plain": [
       "matrix([[47, 58, 69, 80,  1, 12, 23, 34, 45],\n",
       "        [57, 68, 79,  9, 11, 22, 33, 44, 46],\n",
       "        [67, 78,  8, 10, 21, 32, 43, 54, 56],\n",
       "        [77,  7, 18, 20, 31, 42, 53, 55, 66],\n",
       "        [ 6, 17, 19, 30, 41, 52, 63, 65, 76],\n",
       "        [16, 27, 29, 40, 51, 62, 64, 75,  5],\n",
       "        [26, 28, 39, 50, 61, 72, 74,  4, 15],\n",
       "        [36, 38, 49, 60, 71, 73,  3, 14, 25],\n",
       "        [37, 48, 59, 70, 81,  2, 13, 24, 35]])"
      ]
     },
     "execution_count": 27,
     "metadata": {},
     "output_type": "execute_result"
    }
   ],
   "source": [
    "import numpy as np\n",
    "def magic_square(n):\n",
    "    arr=[[0 for x in range(n)] for y in range(n)]\n",
    "    num=2\n",
    "    row=0\n",
    "    col=n//2\n",
    "    arr[row][col]=1\n",
    "    for i in range(n*n-1):\n",
    "        row=row-1\n",
    "        col=col+1\n",
    "        if(row<0):\n",
    "            row=n-1\n",
    "        if(col==n):\n",
    "            col=0\n",
    "        \n",
    "        if(arr[row][col]==0):\n",
    "            arr[row][col]=num\n",
    "            num+=1\n",
    "        elif(arr[row][col]!=0):\n",
    "            row+=2\n",
    "            col-=1\n",
    "            if(row>=n):\n",
    "                row=row%n\n",
    "            if(col==-1):\n",
    "                col=n-1\n",
    "            arr[row][col]=num\n",
    "            num+=1\n",
    "    return arr\n",
    "np.matrix(magic_square(9))          "
   ]
  },
  {
   "cell_type": "code",
   "execution_count": null,
   "metadata": {},
   "outputs": [],
   "source": []
  },
  {
   "cell_type": "code",
   "execution_count": null,
   "metadata": {},
   "outputs": [],
   "source": []
  }
 ],
 "metadata": {
  "kernelspec": {
   "display_name": "Python 3",
   "language": "python",
   "name": "python3"
  },
  "language_info": {
   "codemirror_mode": {
    "name": "ipython",
    "version": 3
   },
   "file_extension": ".py",
   "mimetype": "text/x-python",
   "name": "python",
   "nbconvert_exporter": "python",
   "pygments_lexer": "ipython3",
   "version": "3.8.3"
  }
 },
 "nbformat": 4,
 "nbformat_minor": 4
}
